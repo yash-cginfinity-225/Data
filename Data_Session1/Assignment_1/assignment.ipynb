{
 "cells": [
  {
   "cell_type": "code",
   "execution_count": 1,
   "id": "f55783ec",
   "metadata": {},
   "outputs": [],
   "source": [
    "import requests\n",
    "from bs4 import BeautifulSoup\n",
    "import pandas as pd\n",
    "import time\n",
    "from cryptography.fernet import Fernet"
   ]
  },
  {
   "cell_type": "code",
   "execution_count": null,
   "id": "59a78e12",
   "metadata": {},
   "outputs": [],
   "source": [
    "headers = {'User-Agent': 'Mozilla/5.0'}\n",
    "base_url = \"http://books.toscrape.com/catalogue/page-{}.html\"\n",
    "book_data = []\n",
    "\n",
    "for page in range(1, 3):  # Scrape first 2 pages\n",
    "    try:\n",
    "        response = requests.get(base_url.format(page), headers=headers)\n",
    "        response.raise_for_status()\n",
    "        soup = BeautifulSoup(response.text, 'html.parser')\n",
    "        books = soup.select('article.product_pod')\n",
    "        for book in books:\n",
    "            title = book.h3.a['title']\n",
    "            price = book.select_one('.price_color').text\n",
    "            rating_tag = book.select_one('p.star-rating')\n",
    "            rating = rating_tag['class'][1] if rating_tag else 'No rating'\n",
    "            book_data.append({'Title': title, 'Price': price, 'Rating': rating})\n",
    "        time.sleep(1)  # Respectful delay\n",
    "    except Exception as e:\n",
    "        print(f\"Error on page {page}: {e}\")"
   ]
  },
  {
   "cell_type": "code",
   "execution_count": 4,
   "id": "c570a9f1",
   "metadata": {},
   "outputs": [
    {
     "data": {
      "text/html": [
       "<div>\n",
       "<style scoped>\n",
       "    .dataframe tbody tr th:only-of-type {\n",
       "        vertical-align: middle;\n",
       "    }\n",
       "\n",
       "    .dataframe tbody tr th {\n",
       "        vertical-align: top;\n",
       "    }\n",
       "\n",
       "    .dataframe thead th {\n",
       "        text-align: right;\n",
       "    }\n",
       "</style>\n",
       "<table border=\"1\" class=\"dataframe\">\n",
       "  <thead>\n",
       "    <tr style=\"text-align: right;\">\n",
       "      <th></th>\n",
       "      <th>Title</th>\n",
       "      <th>Price</th>\n",
       "      <th>Rating</th>\n",
       "    </tr>\n",
       "  </thead>\n",
       "  <tbody>\n",
       "    <tr>\n",
       "      <th>0</th>\n",
       "      <td>A Light in the Attic</td>\n",
       "      <td>Â£51.77</td>\n",
       "      <td>Three</td>\n",
       "    </tr>\n",
       "    <tr>\n",
       "      <th>1</th>\n",
       "      <td>Tipping the Velvet</td>\n",
       "      <td>Â£53.74</td>\n",
       "      <td>One</td>\n",
       "    </tr>\n",
       "    <tr>\n",
       "      <th>2</th>\n",
       "      <td>Soumission</td>\n",
       "      <td>Â£50.10</td>\n",
       "      <td>One</td>\n",
       "    </tr>\n",
       "    <tr>\n",
       "      <th>3</th>\n",
       "      <td>Sharp Objects</td>\n",
       "      <td>Â£47.82</td>\n",
       "      <td>Four</td>\n",
       "    </tr>\n",
       "    <tr>\n",
       "      <th>4</th>\n",
       "      <td>Sapiens: A Brief History of Humankind</td>\n",
       "      <td>Â£54.23</td>\n",
       "      <td>Five</td>\n",
       "    </tr>\n",
       "  </tbody>\n",
       "</table>\n",
       "</div>"
      ],
      "text/plain": [
       "                                   Title    Price Rating\n",
       "0                   A Light in the Attic  Â£51.77  Three\n",
       "1                     Tipping the Velvet  Â£53.74    One\n",
       "2                             Soumission  Â£50.10    One\n",
       "3                          Sharp Objects  Â£47.82   Four\n",
       "4  Sapiens: A Brief History of Humankind  Â£54.23   Five"
      ]
     },
     "execution_count": 4,
     "metadata": {},
     "output_type": "execute_result"
    }
   ],
   "source": [
    "df = pd.DataFrame(book_data)\n",
    "df.to_csv('books.csv', index=False, encoding='utf-8')\n",
    "df.head()"
   ]
  },
  {
   "cell_type": "code",
   "execution_count": 5,
   "id": "a058dcba",
   "metadata": {},
   "outputs": [],
   "source": [
    "key = Fernet.generate_key()\n",
    "with open('secret.key', 'wb') as f:\n",
    "    f.write(key)"
   ]
  },
  {
   "cell_type": "code",
   "execution_count": 6,
   "id": "1e39ef8c",
   "metadata": {},
   "outputs": [],
   "source": [
    "with open('secret.key', 'rb') as f:\n",
    "    key = f.read()\n",
    "\n",
    "fernet = Fernet(key)\n",
    "\n",
    "with open('books.csv', 'rb') as file:\n",
    "    original = file.read()\n",
    "\n",
    "encrypted = fernet.encrypt(original)\n",
    "with open('books_encrypted.bin', 'wb') as enc_file:\n",
    "    enc_file.write(encrypted)"
   ]
  },
  {
   "cell_type": "code",
   "execution_count": 7,
   "id": "d829cd04",
   "metadata": {},
   "outputs": [
    {
     "data": {
      "text/html": [
       "<div>\n",
       "<style scoped>\n",
       "    .dataframe tbody tr th:only-of-type {\n",
       "        vertical-align: middle;\n",
       "    }\n",
       "\n",
       "    .dataframe tbody tr th {\n",
       "        vertical-align: top;\n",
       "    }\n",
       "\n",
       "    .dataframe thead th {\n",
       "        text-align: right;\n",
       "    }\n",
       "</style>\n",
       "<table border=\"1\" class=\"dataframe\">\n",
       "  <thead>\n",
       "    <tr style=\"text-align: right;\">\n",
       "      <th></th>\n",
       "      <th>Title</th>\n",
       "      <th>Price</th>\n",
       "      <th>Rating</th>\n",
       "    </tr>\n",
       "  </thead>\n",
       "  <tbody>\n",
       "    <tr>\n",
       "      <th>0</th>\n",
       "      <td>A Light in the Attic</td>\n",
       "      <td>Â£51.77</td>\n",
       "      <td>Three</td>\n",
       "    </tr>\n",
       "    <tr>\n",
       "      <th>1</th>\n",
       "      <td>Tipping the Velvet</td>\n",
       "      <td>Â£53.74</td>\n",
       "      <td>One</td>\n",
       "    </tr>\n",
       "    <tr>\n",
       "      <th>2</th>\n",
       "      <td>Soumission</td>\n",
       "      <td>Â£50.10</td>\n",
       "      <td>One</td>\n",
       "    </tr>\n",
       "    <tr>\n",
       "      <th>3</th>\n",
       "      <td>Sharp Objects</td>\n",
       "      <td>Â£47.82</td>\n",
       "      <td>Four</td>\n",
       "    </tr>\n",
       "    <tr>\n",
       "      <th>4</th>\n",
       "      <td>Sapiens: A Brief History of Humankind</td>\n",
       "      <td>Â£54.23</td>\n",
       "      <td>Five</td>\n",
       "    </tr>\n",
       "  </tbody>\n",
       "</table>\n",
       "</div>"
      ],
      "text/plain": [
       "                                   Title    Price Rating\n",
       "0                   A Light in the Attic  Â£51.77  Three\n",
       "1                     Tipping the Velvet  Â£53.74    One\n",
       "2                             Soumission  Â£50.10    One\n",
       "3                          Sharp Objects  Â£47.82   Four\n",
       "4  Sapiens: A Brief History of Humankind  Â£54.23   Five"
      ]
     },
     "execution_count": 7,
     "metadata": {},
     "output_type": "execute_result"
    }
   ],
   "source": [
    "with open('books_encrypted.bin', 'rb') as enc_file:\n",
    "    encrypted_data = enc_file.read()\n",
    "\n",
    "decrypted = fernet.decrypt(encrypted_data)\n",
    "with open('books_decrypted.csv', 'wb') as dec_file:\n",
    "    dec_file.write(decrypted)\n",
    "\n",
    "# Preview decrypted content\n",
    "pd.read_csv('books_decrypted.csv').head()"
   ]
  },
  {
   "cell_type": "code",
   "execution_count": null,
   "id": "2e0ae39f",
   "metadata": {},
   "outputs": [],
   "source": []
  }
 ],
 "metadata": {
  "kernelspec": {
   "display_name": "Python 3",
   "language": "python",
   "name": "python3"
  },
  "language_info": {
   "codemirror_mode": {
    "name": "ipython",
    "version": 3
   },
   "file_extension": ".py",
   "mimetype": "text/x-python",
   "name": "python",
   "nbconvert_exporter": "python",
   "pygments_lexer": "ipython3",
   "version": "3.14.0"
  }
 },
 "nbformat": 4,
 "nbformat_minor": 5
}
